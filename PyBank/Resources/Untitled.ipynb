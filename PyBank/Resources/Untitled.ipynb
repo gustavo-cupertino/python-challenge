{
 "cells": [
  {
   "cell_type": "code",
   "execution_count": 64,
   "id": "ac71842f",
   "metadata": {},
   "outputs": [],
   "source": [
    "import os\n",
    "import csv"
   ]
  },
  {
   "cell_type": "code",
   "execution_count": 107,
   "id": "fed48831",
   "metadata": {},
   "outputs": [
    {
     "name": "stdout",
     "output_type": "stream",
     "text": [
      "budget_data.csv\n"
     ]
    }
   ],
   "source": [
    "budget_csv = \"budget_data.csv\"\n",
    "print(budget_csv)"
   ]
  },
  {
   "cell_type": "code",
   "execution_count": 114,
   "id": "a87efe77",
   "metadata": {},
   "outputs": [],
   "source": [
    "with open (budget_csv, \"r\") as csvfile:\n",
    "    csvreader = csv.reader(csvfile, delimiter=',')"
   ]
  },
  {
   "cell_type": "code",
   "execution_count": 115,
   "id": "0b46bdc0",
   "metadata": {},
   "outputs": [
    {
     "name": "stdout",
     "output_type": "stream",
     "text": [
      "<_csv.reader object at 0x7f9d7d9bce50>\n"
     ]
    }
   ],
   "source": [
    "    print(csvreader)"
   ]
  },
  {
   "cell_type": "code",
   "execution_count": 116,
   "id": "4def23a6",
   "metadata": {},
   "outputs": [
    {
     "ename": "ValueError",
     "evalue": "I/O operation on closed file.",
     "output_type": "error",
     "traceback": [
      "\u001b[0;31m---------------------------------------------------------------------------\u001b[0m",
      "\u001b[0;31mValueError\u001b[0m                                Traceback (most recent call last)",
      "\u001b[0;32m/var/folders/05/bwl36_3977j94lb6slg98cf00000gn/T/ipykernel_46381/1216008551.py\u001b[0m in \u001b[0;36m<module>\u001b[0;34m\u001b[0m\n\u001b[0;32m----> 1\u001b[0;31m \u001b[0mcsv_header\u001b[0m \u001b[0;34m=\u001b[0m \u001b[0mnext\u001b[0m\u001b[0;34m(\u001b[0m\u001b[0mcsvreader\u001b[0m\u001b[0;34m)\u001b[0m\u001b[0;34m\u001b[0m\u001b[0;34m\u001b[0m\u001b[0m\n\u001b[0m",
      "\u001b[0;31mValueError\u001b[0m: I/O operation on closed file."
     ]
    }
   ],
   "source": [
    "    csv_header = next(csvreader)"
   ]
  },
  {
   "cell_type": "code",
   "execution_count": 111,
   "id": "c553ae74",
   "metadata": {},
   "outputs": [],
   "source": [
    "months = []\n",
    "# result = []\n",
    "# result_change = []"
   ]
  },
  {
   "cell_type": "code",
   "execution_count": 112,
   "id": "bd1890d3",
   "metadata": {},
   "outputs": [],
   "source": [
    "def budget_analysis(csvreader):\n",
    "    months = str(csvreader[0])"
   ]
  },
  {
   "cell_type": "code",
   "execution_count": 113,
   "id": "ddbe642c",
   "metadata": {},
   "outputs": [
    {
     "data": {
      "text/plain": [
       "[]"
      ]
     },
     "execution_count": 113,
     "metadata": {},
     "output_type": "execute_result"
    }
   ],
   "source": [
    "months"
   ]
  },
  {
   "cell_type": "code",
   "execution_count": null,
   "id": "d04f3584",
   "metadata": {},
   "outputs": [],
   "source": []
  }
 ],
 "metadata": {
  "kernelspec": {
   "display_name": "PythonData",
   "language": "python",
   "name": "pythondata"
  },
  "language_info": {
   "codemirror_mode": {
    "name": "ipython",
    "version": 3
   },
   "file_extension": ".py",
   "mimetype": "text/x-python",
   "name": "python",
   "nbconvert_exporter": "python",
   "pygments_lexer": "ipython3",
   "version": "3.7.7"
  }
 },
 "nbformat": 4,
 "nbformat_minor": 5
}
